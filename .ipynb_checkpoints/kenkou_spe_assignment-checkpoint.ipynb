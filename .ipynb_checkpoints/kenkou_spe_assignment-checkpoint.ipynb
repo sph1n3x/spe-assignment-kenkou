{
 "cells": [
  {
   "cell_type": "code",
   "execution_count": null,
   "id": "d7e79b07",
   "metadata": {},
   "outputs": [],
   "source": [
    "# Python ≥3.9 is required\n",
    "import sys\n",
    "assert sys.version_info >= (3, 9)\n",
    "\n",
    "\n",
    "# Common imports\n",
    "import numpy as np\n",
    "import scipy as sc\n",
    "\n",
    "# Import helper functions\n",
    "from helper_functions import *\n",
    "\n",
    "# to make this notebook's output stable across runs\n",
    "np.random.seed(42)\n",
    "\n",
    "# To plot pretty figures\n",
    "%matplotlib inline\n",
    "import matplotlib as mpl\n",
    "import matplotlib.pyplot as plt\n",
    "mpl.rc('axes', labelsize=14)\n",
    "mpl.rc('xtick', labelsize=12)\n",
    "mpl.rc('figure', figsize=(16,6))"
   ]
  },
  {
   "cell_type": "markdown",
   "id": "c021f8ab",
   "metadata": {},
   "source": [
    "### Exploratory Analysis"
   ]
  },
  {
   "cell_type": "code",
   "execution_count": null,
   "id": "a1728f70",
   "metadata": {},
   "outputs": [],
   "source": [
    "# Load PPG and ECG signals\n",
    "signal_ppg_1, signal_ppg_2, signal_ppg_3 = load_signals_ppg()\n",
    "signal_ecg_1, signal_ecg_2, signal_ecg_3 = load_signals_ecg()"
   ]
  },
  {
   "cell_type": "code",
   "execution_count": null,
   "id": "c2e3ecbb",
   "metadata": {},
   "outputs": [],
   "source": [
    "# Plot PPG signals\n",
    "plot_all_ppg_signals(signal_ppg_1, signal_ppg_2, signal_ppg_3)"
   ]
  },
  {
   "cell_type": "code",
   "execution_count": null,
   "id": "f3ebd1f6",
   "metadata": {
    "scrolled": false
   },
   "outputs": [],
   "source": [
    "# Plot PPG signals between sample 540 and 600\n",
    "plot_all_ppg_signals(signal_ppg_1, signal_ppg_2, signal_ppg_3, 540, 600)"
   ]
  },
  {
   "cell_type": "code",
   "execution_count": null,
   "id": "1456aaca",
   "metadata": {},
   "outputs": [],
   "source": [
    "# Plot ECG signals\n",
    "plot_all_ecg_signals(signal_ecg_1, signal_ecg_2, signal_ecg_3)"
   ]
  },
  {
   "cell_type": "code",
   "execution_count": null,
   "id": "0e4b0824",
   "metadata": {},
   "outputs": [],
   "source": [
    "# Plot ECG signals between sample 20k and 22k\n",
    "plot_all_ecg_signals(signal_ecg_1, signal_ecg_2, signal_ecg_3, 20000, 22000)"
   ]
  },
  {
   "cell_type": "markdown",
   "id": "bdce8f9f",
   "metadata": {},
   "source": [
    "### Sampling Rate"
   ]
  },
  {
   "cell_type": "markdown",
   "id": "64cedeb4",
   "metadata": {},
   "source": [
    "A person at rest has a heart rate of 60 to 100 bpm. For healthy people this value is around 60 bpm.\n",
    "For simplicity we will consider 60 bpm for a healthy person at rest, i.e. we have 60 pulses or peaks in a 1-minute interval or 1 pulse/peak per second.\n",
    "\n",
    "We proceed as follows. For PPG signals we locate a pulse by inspection, compute the local minima and assure that the distance between two minima is greater 20 samples (value obtained by inspection). The distance between these two minima then gives us the pulse width in samples and inferes the sampling frequency. It turns out that the sample between 540 and 600 is sufficient to locate two pulses (interval hard coded in code) for all three PPG signals.\n",
    "\n",
    "For the case of ECG signals, we locate two pulses (or rather two peaks) and compute the distance between these two maxima which gives us the duration of one period (due to periodicity of the pulses) in samples. In this scenario, the the interval between 20k and 22k is sufficient."
   ]
  },
  {
   "cell_type": "code",
   "execution_count": null,
   "id": "85c22016",
   "metadata": {},
   "outputs": [],
   "source": [
    "get_sampling_rate(signal_ppg_1, 'ppg', 1)\n",
    "get_sampling_rate(signal_ppg_2, 'ppg', 2)\n",
    "get_sampling_rate(signal_ppg_3, 'ppg', 3)\n",
    "get_sampling_rate(signal_ecg_1, 'ecg', 1)\n",
    "get_sampling_rate(signal_ecg_2, 'ecg', 2)\n",
    "get_sampling_rate(signal_ecg_3, 'ecg', 3)"
   ]
  },
  {
   "cell_type": "markdown",
   "id": "a70c67d4",
   "metadata": {},
   "source": [
    "We observe that the PPG and ECG signals were roughly sampled with the same frequency. In the remainder of the tasks we consider a sampling frequency of fs = 25 Hz (ts = 40ms) and fs = 1000 Hz (ts = 1ms) for PPG and ECG signals, repsectively."
   ]
  },
  {
   "cell_type": "code",
   "execution_count": null,
   "id": "069e38d0",
   "metadata": {},
   "outputs": [],
   "source": [
    "fs_ppg = 25\n",
    "fs_ecg = 1000\n",
    "ts_ppg = 0.04\n",
    "ts_ecg = 0.001"
   ]
  },
  {
   "cell_type": "markdown",
   "id": "d70fe549",
   "metadata": {},
   "source": [
    "### Signal Processing"
   ]
  },
  {
   "cell_type": "markdown",
   "id": "b6d492ae",
   "metadata": {},
   "source": [
    "In each signal we observe high frequency noise, trend and offset. High frequency noise can be mitigated by using a lowpass filter. Observing the trend, we see that it is not a linear trend. One way to acount for the trend would be using a polynomial to fit the data points and subtract the fitted data points from the originals. This is not ideal, especially if we use higher degree polynomials. Higher degree polynomials might fit the data, but will also follow the noise pattern. Instead, we will filter out lower frequencies (e.g. with a highpass filter) that have an impact on the trend.\n",
    "\n",
    "Since we want to both filter out lower and higher frequencies, we will consider a bandpass filter. A decent choice here would be a Butterworth filter of order 5. To get sensible values for the cutoff frequencies, one has to first inspect the signal spectrum."
   ]
  },
  {
   "cell_type": "code",
   "execution_count": null,
   "id": "cecc7f05",
   "metadata": {},
   "outputs": [],
   "source": [
    "# Initialize all signals\n",
    "sig_ppg_1 = Signal(signal_ppg_1, 'ppg', 1)\n",
    "sig_ppg_1.initialize()\n",
    "\n",
    "sig_ecg_1 = Signal(signal_ecg_1, 'ecg', 1)\n",
    "sig_ecg_1.initialize()\n",
    "\n",
    "sig_ppg_2 = Signal(signal_ppg_2, 'ppg', 2)\n",
    "sig_ppg_2.initialize()\n",
    "\n",
    "sig_ecg_2 = Signal(signal_ecg_2, 'ecg', 2)\n",
    "sig_ecg_2.initialize()\n",
    "\n",
    "sig_ppg_3 = Signal(signal_ppg_3, 'ppg', 3)\n",
    "sig_ppg_3.initialize()\n",
    "\n",
    "sig_ecg_3 = Signal(signal_ecg_3, 'ecg', 3)\n",
    "sig_ecg_3.initialize()"
   ]
  },
  {
   "cell_type": "markdown",
   "id": "e64ce473",
   "metadata": {},
   "source": [
    "Plot spectrum of all ECG and PPG signals"
   ]
  },
  {
   "cell_type": "code",
   "execution_count": null,
   "id": "7a590635",
   "metadata": {},
   "outputs": [],
   "source": [
    "sig_ppg_1.plot_signal_spectrum()"
   ]
  },
  {
   "cell_type": "code",
   "execution_count": null,
   "id": "c176e063",
   "metadata": {},
   "outputs": [],
   "source": [
    "sig_ecg_1.plot_signal_spectrum()"
   ]
  },
  {
   "cell_type": "code",
   "execution_count": null,
   "id": "46ef756e",
   "metadata": {},
   "outputs": [],
   "source": [
    "sig_ppg_2.plot_signal_spectrum()"
   ]
  },
  {
   "cell_type": "code",
   "execution_count": null,
   "id": "d012b388",
   "metadata": {},
   "outputs": [],
   "source": [
    "sig_ecg_2.plot_signal_spectrum()"
   ]
  },
  {
   "cell_type": "code",
   "execution_count": null,
   "id": "f4533a3a",
   "metadata": {},
   "outputs": [],
   "source": [
    "sig_ppg_3.plot_signal_spectrum()"
   ]
  },
  {
   "cell_type": "code",
   "execution_count": null,
   "id": "df93df1d",
   "metadata": {},
   "outputs": [],
   "source": [
    "sig_ecg_3.plot_signal_spectrum()"
   ]
  },
  {
   "cell_type": "markdown",
   "id": "7f37af1f",
   "metadata": {},
   "source": [
    "By looking at the signal spectra, we define the following cutoff frequencies. For PPG signals we set\n",
    "0.5 Hz for the lower and 1.5 Hz for the higher cutoff frequency whereas for ECG signals these values are set to 0.5 Hz and 50 Hz, respectively."
   ]
  },
  {
   "cell_type": "code",
   "execution_count": null,
   "id": "c0ca96a7",
   "metadata": {},
   "outputs": [],
   "source": [
    "# Preprocess filter by using a Butterworth filter of order 5.\n",
    "sig_ppg_1.preprocess_signal()\n",
    "sig_ecg_1.preprocess_signal()\n",
    "\n",
    "sig_ppg_2.preprocess_signal()\n",
    "sig_ecg_2.preprocess_signal()\n",
    "\n",
    "sig_ppg_3.preprocess_signal()\n",
    "sig_ecg_3.preprocess_signal()"
   ]
  },
  {
   "cell_type": "code",
   "execution_count": null,
   "id": "e88ae309",
   "metadata": {},
   "outputs": [],
   "source": [
    "# Plot preprocessed signals\n",
    "sig_ppg_1.plot_signal()\n",
    "sig_ecg_1.plot_signal()"
   ]
  },
  {
   "cell_type": "code",
   "execution_count": null,
   "id": "8b5467f1",
   "metadata": {},
   "outputs": [],
   "source": [
    "sig_ppg_2.plot_signal()\n",
    "sig_ecg_2.plot_signal()"
   ]
  },
  {
   "cell_type": "code",
   "execution_count": null,
   "id": "e7e73879",
   "metadata": {},
   "outputs": [],
   "source": [
    "sig_ppg_3.plot_signal()\n",
    "sig_ecg_3.plot_signal()"
   ]
  },
  {
   "cell_type": "markdown",
   "id": "7b3dd068",
   "metadata": {},
   "source": [
    "We managed to remove trend, high frequency noise and offset, although it is not perfect."
   ]
  },
  {
   "cell_type": "markdown",
   "id": "bd680126",
   "metadata": {},
   "source": [
    "### Peak Detection"
   ]
  },
  {
   "cell_type": "markdown",
   "id": "8b1cfb6a",
   "metadata": {},
   "source": [
    "For peak detection, we use the find_peaks function from the scipy library."
   ]
  },
  {
   "cell_type": "code",
   "execution_count": null,
   "id": "13a0917d",
   "metadata": {},
   "outputs": [],
   "source": [
    "# Get peak indices\n",
    "sig_ppg_1.get_peak_indices()\n",
    "sig_ecg_1.get_peak_indices()\n",
    "\n",
    "sig_ppg_2.get_peak_indices()\n",
    "sig_ecg_2.get_peak_indices()\n",
    "\n",
    "sig_ppg_3.get_peak_indices()\n",
    "sig_ecg_3.get_peak_indices()"
   ]
  },
  {
   "cell_type": "code",
   "execution_count": null,
   "id": "4fc2d16d",
   "metadata": {},
   "outputs": [],
   "source": []
  },
  {
   "cell_type": "code",
   "execution_count": null,
   "id": "db23be1c",
   "metadata": {},
   "outputs": [],
   "source": [
    "# Plot peaks"
   ]
  },
  {
   "cell_type": "code",
   "execution_count": null,
   "id": "aafc4b38",
   "metadata": {},
   "outputs": [],
   "source": [
    "sig_ppg_1.plot_peaks()\n",
    "sig_ecg_1.plot_peaks()"
   ]
  },
  {
   "cell_type": "code",
   "execution_count": null,
   "id": "e3c850f5",
   "metadata": {},
   "outputs": [],
   "source": [
    "sig_ppg_2.plot_peaks()\n",
    "sig_ecg_2.plot_peaks()"
   ]
  },
  {
   "cell_type": "code",
   "execution_count": null,
   "id": "16cf3a5f",
   "metadata": {},
   "outputs": [],
   "source": [
    "sig_ppg_3.plot_peaks()"
   ]
  },
  {
   "cell_type": "markdown",
   "id": "ddf199a3",
   "metadata": {},
   "source": [
    "### Anomaly Detection in PPG signals"
   ]
  },
  {
   "cell_type": "markdown",
   "id": "85b15f61",
   "metadata": {},
   "source": [
    "For anomaly or outlier detection we could use a moving average filter our go even further and use an autoregressive integrated moving average (ARIMA) filter. We here, however, take a different approach.\n",
    "\n",
    "We will simply compute the prominences of the peaks which then gives us the pulse height. If a peak is above or below a certain median threshold, we  consider it an anomaly. If two or more succeeding prominences lay outside the threshold regime, we define it as an anomaly segment.\n"
   ]
  },
  {
   "cell_type": "code",
   "execution_count": null,
   "id": "49b8b14c",
   "metadata": {},
   "outputs": [],
   "source": [
    "# Get peak prominences for all PPG signals\n",
    "sig_ppg_1.get_peak_prominences()\n",
    "sig_ppg_2.get_peak_prominences()\n",
    "sig_ppg_3.get_peak_prominences()"
   ]
  },
  {
   "cell_type": "code",
   "execution_count": null,
   "id": "7ea30cb0",
   "metadata": {},
   "outputs": [],
   "source": [
    "# Plot PPG signal 1 with prominences\n",
    "sig_ppg_1.plot_peak_prominences()\n"
   ]
  },
  {
   "cell_type": "code",
   "execution_count": null,
   "id": "eb78efd2",
   "metadata": {},
   "outputs": [],
   "source": [
    "# Detect anomalies\n",
    "sig_ppg_1.detect_anomalies()\n",
    "sig_ppg_2.detect_anomalies()\n",
    "sig_ppg_3.detect_anomalies()"
   ]
  },
  {
   "cell_type": "code",
   "execution_count": null,
   "id": "3d6f4cfd",
   "metadata": {},
   "outputs": [],
   "source": [
    "# Plot anomalies\n",
    "sig_ppg_1.plot_anomalies()\n",
    "sig_ppg_2.plot_anomalies()\n",
    "sig_ppg_3.plot_anomalies()"
   ]
  },
  {
   "cell_type": "code",
   "execution_count": null,
   "id": "aa02c43f",
   "metadata": {},
   "outputs": [],
   "source": [
    "# Plot outliers and anomaly segments\n",
    "sig_ppg_1.plot_anomaly_segments()\n",
    "sig_ppg_2.plot_anomaly_segments()\n",
    "sig_ppg_3.plot_anomaly_segments()"
   ]
  },
  {
   "cell_type": "markdown",
   "id": "3841426f",
   "metadata": {},
   "source": [
    "The red-shaded segments describe the anomaly segments whereas the black 'X' marks define the outliers.\n",
    "\n",
    "This approach is not ideal, but at least gives some sensitive results. By inspection, PPG signal 1 actually has the best quality among all three PPG signals. In fact, we should not expect any outliers or anomalies. Yet, our approach introduces some detection errors which fortunately are not severe."
   ]
  },
  {
   "cell_type": "markdown",
   "id": "2f97a8ce",
   "metadata": {},
   "source": [
    "### Synchronization"
   ]
  },
  {
   "cell_type": "markdown",
   "id": "d42889b9",
   "metadata": {},
   "source": [
    "To synchronize PPG and ECG signals, both signals need to have the same sampling rate. We have seen earlier that this is not the case. In fact, ECG signals were sampled with a rate that is 40 (1000 Hz / 25 Hz) times higher than the sampling frequency of the PPG signals. We thus downsample the ECG signals first and then compute correlation between two signals. The max correlation point then gives us the \"lag\", i.e. the point or number of samples that one signal has to be shifted in order to synchronize both signals."
   ]
  },
  {
   "cell_type": "code",
   "execution_count": null,
   "id": "5fced876",
   "metadata": {},
   "outputs": [],
   "source": [
    "# Compute lag\n",
    "sig_ppg_1.compute_lag(sig_ecg_1)\n",
    "sig_ppg_2.compute_lag(sig_ecg_2)\n",
    "sig_ppg_3.compute_lag(sig_ecg_3)"
   ]
  },
  {
   "cell_type": "markdown",
   "id": "9c7f7b9a",
   "metadata": {},
   "source": [
    "We observe that the for PPG and ECG signal 1, the lag seems to be fine. For the other two signals, the value is a bit too high. One of the reasons might be that were are not catching the right points by downsampling the ECG signals and are basically discarding important values."
   ]
  },
  {
   "cell_type": "markdown",
   "id": "b22bb50f",
   "metadata": {},
   "source": [
    "### Evaluation"
   ]
  },
  {
   "cell_type": "markdown",
   "id": "d41ea0d5",
   "metadata": {},
   "source": [
    "One way to evaluate our signals would be by synchronizing our signals (PPG X and ECG X) and then compute the root mean square error (RMSE) where a lower RMSE accounts for higher quality. However, due to above issues, we will consider a simpler approach.\n",
    "\n",
    "Each PPG signal will be given a score S between 1 and 0. The score is calculated as S = 1 - #anomlies/#peaks.\n",
    "A higher score is proportional to a better signal quality."
   ]
  },
  {
   "cell_type": "code",
   "execution_count": null,
   "id": "9a18ffd5",
   "metadata": {},
   "outputs": [],
   "source": [
    "# Compute scores\n",
    "sig_ppg_1.get_score()\n",
    "sig_ppg_2.get_score()\n",
    "sig_ppg_3.get_score()"
   ]
  },
  {
   "cell_type": "code",
   "execution_count": null,
   "id": "bd8dafb1",
   "metadata": {},
   "outputs": [],
   "source": [
    "# Score of PPG signal 1\n",
    "sig_ppg_1.score"
   ]
  },
  {
   "cell_type": "code",
   "execution_count": null,
   "id": "b65924a6",
   "metadata": {},
   "outputs": [],
   "source": [
    "# Score of PPG signal 2\n",
    "sig_ppg_2.score"
   ]
  },
  {
   "cell_type": "code",
   "execution_count": null,
   "id": "8d0fa3d9",
   "metadata": {},
   "outputs": [],
   "source": [
    "# Score of PPG signal 3\n",
    "sig_ppg_3.score"
   ]
  },
  {
   "cell_type": "markdown",
   "id": "8870ac68",
   "metadata": {},
   "source": [
    "Just by looking at raw data, one might think that signal 2 has a higher quality than signal 3. Yet, processing the signals allows us to get a better insight.\n",
    "\n",
    "Our metric ranks the PPG signals as follows (from best to worse):\n",
    "\n",
    "PPG Signal 1\n",
    "\n",
    "PPG Signal 3\n",
    "\n",
    "PPG Signal 2"
   ]
  },
  {
   "cell_type": "code",
   "execution_count": null,
   "id": "deddbd79",
   "metadata": {},
   "outputs": [],
   "source": []
  }
 ],
 "metadata": {
  "kernelspec": {
   "display_name": "Python 3 (ipykernel)",
   "language": "python",
   "name": "python3"
  },
  "language_info": {
   "codemirror_mode": {
    "name": "ipython",
    "version": 3
   },
   "file_extension": ".py",
   "mimetype": "text/x-python",
   "name": "python",
   "nbconvert_exporter": "python",
   "pygments_lexer": "ipython3",
   "version": "3.9.12"
  }
 },
 "nbformat": 4,
 "nbformat_minor": 5
}
